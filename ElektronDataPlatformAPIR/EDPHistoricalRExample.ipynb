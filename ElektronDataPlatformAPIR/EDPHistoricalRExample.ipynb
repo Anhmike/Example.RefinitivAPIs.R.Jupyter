{
 "cells": [
  {
   "cell_type": "markdown",
   "metadata": {},
   "source": [
    "# Elektron Data Platform Historical R Example\n",
    "\n",
    "Elektron Data Platform (EDP) is our cloud-enabled, open platform, that brings together content, analytics and proprietary, customer and third-party data distribution and management technology. It provides simple web-based API access to a broad range of content. \n",
    "\n",
    "This example demonstrates how to retrieve historical data from the Elektron Data Platform with R on Jupyter Notebook. It uses the [httr](https://cran.r-project.org/web/packages/httr/vignettes/quickstart.html) package to send HTTP request messages and uses [Plotly](https://plot.ly/r/getting-started/) package to draw charts."
   ]
  },
  {
   "cell_type": "markdown",
   "metadata": {},
   "source": [
    "## The first step is loading the required libraries\n",
    "\n",
    "- [httr](https://cran.r-project.org/web/packages/httr/index.html): Tools for working with URLs and HTTP\n",
    "- [plotly](https://www.rdocumentation.org/packages/plotly/versions/4.9.0): Create interactive web graphics from 'ggplot2' graphs and/or a custom interface to the (MIT-licensed) JavaScript library 'plotly.js'\n",
    "- [zoo](https://cran.r-project.org/web/packages/zoo/index.html): The zoo package consists of the methods for totally ordered indexed observations. It aims at performing calculations containing irregular time series of numeric vectors, matrices & factors"
   ]
  },
  {
   "cell_type": "code",
   "execution_count": null,
   "metadata": {},
   "outputs": [],
   "source": [
    "library(httr)\n",
    "library(plotly)\n",
    "library(zoo)  "
   ]
  },
  {
   "cell_type": "markdown",
   "metadata": {},
   "source": [
    "## Next, set URLs for the Elektron Data Platform services\n",
    "\n",
    "This example uses the following Elektron Data Platform services:\n",
    "\n",
    "- **/auth/oauth2/v1/token**: This service allows clients to get a token for password grant\n",
    "- **/data/historical-pricing/v1**: This service is used to retrieve Intraday and Interday time-series historical pricing data\n",
    "\n"
   ]
  },
  {
   "cell_type": "code",
   "execution_count": null,
   "metadata": {},
   "outputs": [],
   "source": [
    "REFINITIV_API_URL <- \"https://api.refinitiv.com/\"\n",
    "OAUTH2_TOKEN_URL <- paste(REFINITIV_API_URL, \"auth/oauth2/v1/token\", sep=\"\")\n",
    "HISTORICAL_PRICING_URL <- paste(REFINITIV_API_URL, \"data/historical-pricing/v1\", sep=\"\")"
   ]
  },
  {
   "cell_type": "markdown",
   "metadata": {},
   "source": [
    "## Then, set the Elektron Data Platform credential\n",
    "\n",
    "The Elektron Data Platform credential include:\n",
    "\n",
    "- **USERNAME**: The resource owner username (typically email)\n",
    "- **PASSWORD**: The resource owner password\n",
    "- **CLIENTID**: (Aka Application ID, aka AppKey.) A unique ID defined for an application making the request. Users can generate/manage their application ID's [here](https://emea1.apps.cp.thomsonreuters.com/apps/AppkeyGenerator)\n",
    "\n"
   ]
  },
  {
   "cell_type": "code",
   "execution_count": null,
   "metadata": {},
   "outputs": [],
   "source": [
    "USERNAME <- \"<user name>\"\n",
    "PASSWORD <- \"<password>\"\n",
    "CLIENTID <- \"<client id>\""
   ]
  },
  {
   "cell_type": "markdown",
   "metadata": {},
   "source": [
    "Instead of setting the Elektron Data Platform credential in the code, you can set credential information in the **.Renviron** file. Then, use the **Sys.getenv** method to retrieve the credential information. \n",
    "\n",
    "For example, the **.Renviron** file contains the following environment variables:\n",
    "\n",
    "```\n",
    "USERNAME=<user name>\n",
    "PASSWORD=<password>\n",
    "CLIENTID=<client id>\n",
    "```\n",
    "Then, use the following code to set variables.\n",
    "\n",
    "```\n",
    "Credentials <-Sys.getenv(c(\"USERNAME\", \"PASSWORD\", \"CLIENTID\"))\n",
    "USERNAME <- Credentials[\"USERNAME\"]\n",
    "PASSWORD <- Credentials[\"PASSWORD\"]\n",
    "CLIENTID <- Credentials[\"CLIENTID\"]\n",
    "```\n",
    "\n",
    "If the HTTP requests must be sent through a proxy, the following code can be used to set a proxy.\n",
    "\n",
    "```\n",
    "set_config(use_proxy(url=\"<url>\",port=<port>))\n",
    "```\n",
    "\n",
    "Now, it is ready to use the Elektron Data Platform services. Next, we will show how to retrieve historical data from the Elektron Data Platform services.\n"
   ]
  },
  {
   "cell_type": "markdown",
   "metadata": {},
   "source": [
    "## Retrieve Intraday and Interday time-series historical pricing data\n",
    "\n",
    "The following section will show how to use the **auth/oauth2** and **data/historical-pricing** services.\n",
    "\n",
    "## 1. Login\n",
    "\n",
    "Login is the first step for all EDP API requests. \n",
    "\n",
    "### Construct the body of the HTTP request message\n",
    "\n",
    "To login, the HTTP post message must be sent to the **auth/oauth2/v1/token** service. The body of the HTTP request message contains the following parameters.\n",
    "\n",
    "- **grant_type**: Supported values \"password\" and \"refresh_token\"\n",
    "- **username**: The resource owner username (typically email)\n",
    "- **password**: The resource owner password\n",
    "- **scope**: The scope of the access request\n",
    "- **takeExclusiveSignOnControl**: OPTIONAL. This is a Boolean that will allow the API Caller to create a session if the number of concurrent sessions has been reached\n",
    "- **client_id**: A unique ID defined for an application making the request. Users can generate/manage their application ID's [here](https://emea1.apps.cp.thomsonreuters.com/apps/AppkeyGenerator)\n",
    "\n",
    "For other parameters, please refer to the [API Documents](http://api.refinitiv.com/).\n",
    "\n",
    "The following code creates a list that contains those parameter names and values."
   ]
  },
  {
   "cell_type": "code",
   "execution_count": null,
   "metadata": {},
   "outputs": [],
   "source": [
    "RequestTokenBody <- list(grant_type=\"password\",\n",
    "          username=USERNAME,\n",
    "          password=PASSWORD,\n",
    "          scope=\"trapi\",\n",
    "          takeExclusiveSignOnControl= \"True\",\n",
    "          client_id=CLIENTID\n",
    "          )"
   ]
  },
  {
   "cell_type": "markdown",
   "metadata": {},
   "source": [
    "### Send the HTTP post message to retrieve tokens\n",
    "\n",
    "The following code calls the **httr::post** method to send the HTTP post message which contains the login information in the message's body to the **auth/oauth2/v1/token** service. The login information is encoded with a URL encoded form (application/x-www-form-urlencoded) in the message's body. The HTTP post message also contains the **Authorization** HTTP header with the client id as its value. \n",
    "\n",
    "After receiving the response, it calls the **stop_for_status** function which converts HTTP errors to R errors or warnings. If the request was successful, it prints the response on the screen. Otherwise, it will stop."
   ]
  },
  {
   "cell_type": "code",
   "execution_count": null,
   "metadata": {},
   "outputs": [],
   "source": [
    "RequestTokenResponse <- httr::POST(OAUTH2_TOKEN_URL,\n",
    "                 add_headers(Authorization = CLIENTID),                \n",
    "                 body = RequestTokenBody,\n",
    "                 encode = \"form\")\n",
    "stop_for_status(RequestTokenResponse)\n",
    "RequestTokenResponse"
   ]
  },
  {
   "cell_type": "markdown",
   "metadata": {},
   "source": [
    "If the response status is not 200, please verify the URL or login information.\n",
    "\n",
    "### Get an access token\n",
    "\n",
    "If the response status is 200, the HTTP response will contain an access token. This access token will be used in subsequent requests. \n",
    "\n",
    "The data is in JSON format so it calls the **httr::content** method to extract the JSON content from the HTTP response. Then, it saves an access token into the **ACCESS_TOKEN** variable so it can be used in the subsequent requests."
   ]
  },
  {
   "cell_type": "code",
   "execution_count": null,
   "metadata": {},
   "outputs": [],
   "source": [
    "TokenContent <- httr::content(RequestTokenResponse, \"parsed\", \"application/json\", encoding=\"UTF-8\")\n",
    "ACCESS_TOKEN <- TokenContent$access_token\n",
    "ACCESS_TOKEN"
   ]
  },
  {
   "cell_type": "markdown",
   "metadata": {},
   "source": [
    "After getting the access token, we can use this token to call other Elektron Data Platform services.\n",
    "\n",
    "## 2. Retrieve Interday Historical Pricing Summaries Data\n",
    "\n",
    "\n",
    "The historical pricing service can be used to retrieve Interday historical pricing summaries data through the **/views/interday-summaries** URL. \n",
    "\n",
    "### Send a request\n",
    "\n",
    "\n",
    "Interday Historical Pricing Summaries Data uses the HTTP GET request. The HTTP message has the **Authorization** HTTP header with the token type (bearer) and access token as its value. The requested instrument must be added at the end of the URL and other request parameters are in the query string.\n",
    "\n",
    "\n",
    "The following code calls the **httr::GET** method to request the daily historical pricing data (OPEN, HIGH, LOW, and CLOSE) of IBM.N for one year period with the following parameters:\n",
    "\n",
    "- **start**: The start date and timestamp of the query is in ISO8601 with UTC only e.g 2018-12-24T09:00:00.000000000Z\n",
    "- **end**: The end date and timestamp of the query is in ISO8601 with UTC only e.g 2018-12-24T09:00:00.000000000Z\n",
    "- **fields**: The comma-separated list of fields that are to be returned in the response\n",
    "- **interval**: The consolidation interval in ISO8601. The support intervals are PT1M, PT5M, PT10M, PT30M, PT60M, and PT1H\n",
    "\n",
    "The request parameters are created by using a list. For other parameters, please refer to the [API Documents](http://api.refinitiv.com/).\n",
    "\n",
    "After receiving the response, it calls the **stop_for_status** to verify the error. If the request was successful, it prints the response on the screen. Otherwise, it will stop."
   ]
  },
  {
   "cell_type": "code",
   "execution_count": null,
   "metadata": {},
   "outputs": [],
   "source": [
    "INTERDAY_SUMMARY_URL <- paste(HISTORICAL_PRICING_URL, \"/views/interday-summaries/\", sep=\"\")\n",
    "\n",
    "HistoricalResponse <- httr::GET(paste(INTERDAY_SUMMARY_URL, \"IBM.N\", sep=\"\"),\n",
    "                                add_headers(Authorization = paste(TokenContent[[\"token_type\"]], ACCESS_TOKEN)),\n",
    "                                query=list(start=Sys.Date()-365,\n",
    "                                           end=Sys.Date(),\n",
    "                                           fields=\"OPEN_PRC,HIGH_1,LOW_1,TRDPRC_1\",\n",
    "                                           interval=\"P1D\")\n",
    "                 )  \n",
    "stop_for_status(HistoricalResponse)\n",
    "HistoricalResponse   \n"
   ]
  },
  {
   "cell_type": "markdown",
   "metadata": {},
   "source": [
    "If the response status is 401, the access token may be expired. Please re-run the first step (**1. Login**) to get a new access token.\n",
    "\n",
    "\n",
    "### Extract the JSON content\n",
    "\n",
    "If the response status is 200, the HTTP response will contain the daily historical data in JSON tabular format.\n",
    "\n",
    "The following code calls the **httr::content** method to extract the JSON content from the HTTP response and then print it on the screen."
   ]
  },
  {
   "cell_type": "code",
   "execution_count": null,
   "metadata": {},
   "outputs": [],
   "source": [
    "HistoricalContent <- httr::content(HistoricalResponse, \"parsed\", \"application/json\", encoding=\"UTF-8\")\n",
    "HistoricalContent"
   ]
  },
  {
   "cell_type": "markdown",
   "metadata": {},
   "source": [
    "### Create a data frame from the JSON content\n",
    "\n",
    "With R, it is easier to display or manipulate the data in the data frame. \n",
    "\n",
    "The following code creates a function called **JsonTabularToDataFrame** which accepts the JSON tabular content and returns a data frame. Next, it calls this function with the JSON content returned by the previous step in order to create the data frame. Then, it prints the data frame on the screen."
   ]
  },
  {
   "cell_type": "code",
   "execution_count": null,
   "metadata": {},
   "outputs": [],
   "source": [
    "JsonTabularToDataFrame <- function(jsonObj){\n",
    "    temp_df <- NULL\n",
    "\n",
    "    for(i in c(1:length(jsonObj[[1]]$headers))){\n",
    "        tempData <- c()\n",
    "        for(j in c(1:length(jsonObj[[1]]$data))){   \n",
    "            tempData <- c(tempData,jsonObj[[1]]$data[[j]][[i]])       \n",
    "        }\n",
    "        if (is.null(temp_df)){\n",
    "            temp_df = data.frame(tempColName = tempData)\n",
    "            names(temp_df)[names(temp_df) == \"tempColName\"] <- jsonObj[[1]]$headers[[i]]$name\n",
    "        }else{\n",
    "            temp_df[jsonObj[[1]]$headers[[i]]$name] <- tempData\n",
    "        }\n",
    "    }\n",
    "    return(temp_df)\n",
    "}\n",
    "\n",
    "df1 <- JsonTabularToDataFrame(HistoricalContent)\n",
    "df1"
   ]
  },
  {
   "cell_type": "markdown",
   "metadata": {},
   "source": [
    "### Calculate the simple moving average\n",
    "\n",
    "This section uses the last prices (TRDPRC_1) in the data frame to calculate the 30-day simple moving average. It uses the **rollmean** function in the **[zoo](https://cran.r-project.org/web/packages/zoo/index.html)** package. The **rollmean** is a generic function for computing rolling means of ordered observations. \n",
    "\n",
    "Then, the 30-day simple moving average values are added into the data frame as a new column (**sma30**)."
   ]
  },
  {
   "cell_type": "code",
   "execution_count": null,
   "metadata": {},
   "outputs": [],
   "source": [
    "df1 <- df1 %>% \n",
    "mutate(sma30 = rollmean(TRDPRC_1, k=30, fill=NA, align=\"left\"))\n",
    "df1"
   ]
  },
  {
   "cell_type": "markdown",
   "metadata": {},
   "source": [
    "### Plot a chart\n",
    "\n",
    "The following code calls the **plot_ly** function to plot a candlestick chart for the DATE, OPEN_PRC, HIGH_1, LOW_1, and TRDPRC_1 columns. It also plots a line chart for the **sma30** column."
   ]
  },
  {
   "cell_type": "code",
   "execution_count": null,
   "metadata": {},
   "outputs": [],
   "source": [
    "chart1 <- df1 %>%\n",
    "  plot_ly(x = ~DATE, type=\"candlestick\",\n",
    "          open = ~OPEN_PRC, close = ~TRDPRC_1,\n",
    "          high = ~HIGH_1, low = ~LOW_1, name=\"OHLC\") %>%\n",
    "  add_lines(x = ~DATE, y = ~sma30, line = list(color = 'black', width = 0.75), inherit = F, name=\"SMA30D\") %>%\n",
    "  layout(title = \"Basic Candlestick Chart\")\n",
    "chart1\n"
   ]
  },
  {
   "cell_type": "markdown",
   "metadata": {},
   "source": [
    "## 2. Retrieve the Time & Sales data\n",
    "\n",
    "The historical pricing service can be used to retrieve time series pricing events data (i.e. trades, quotes, and corrections) through the **/views/events** URL. \n",
    "\n",
    "### Send a request\n",
    "\n",
    "Time series pricing events use the HTTP GET request. The HTTP message has the **Authorization** HTTP header with the token type (bearer) and access token as its value. The requested instrument must be added at the end of the URL and other request parameters are in the query string.\n",
    "\n",
    "\n",
    "The following code calls the **httr::GET** method to request the Times & Sales data of IBM.N with the following parameters:\n",
    "\n",
    "- **eventTypes**: The list of market events (comma delimited) supports the values of trade, quote, and correction for event types\n",
    "- **end**: The end date and timestamp of the query is in ISO8601 with UTC only e.g 2018-12-24T09:00:00.000000000Z\n",
    "- **fields**: The comma-separated list of fields that are to be returned in the response\n",
    "- **count**: The maximum number of data returned\n",
    "\n",
    "The request parameters are created by using a list. For other parameters, please refer to the [API Documents](http://api.refinitiv.com/).\n",
    "\n",
    "After receiving the response, it calls the **stop_for_status** to verify the error. If the request was successful, it prints the response on the screen. Otherwise, it will stop."
   ]
  },
  {
   "cell_type": "code",
   "execution_count": null,
   "metadata": {},
   "outputs": [],
   "source": [
    "PRICING_EVENTS_URL <- paste(HISTORICAL_PRICING_URL, \"/views/events/\", sep=\"\")\n",
    "\n",
    "EventsResponse <- httr::GET(paste(PRICING_EVENTS_URL, \"IBM.N\", sep=\"\"),\n",
    "                                add_headers(Authorization = paste(TokenContent[[\"token_type\"]], ACCESS_TOKEN)),\n",
    "                                query=list(eventTypes=\"trade\",\n",
    "                                           fields=\"TRDPRC_1\",\n",
    "                                           count=100)\n",
    "                 )  \n",
    "stop_for_status(EventsResponse)\n",
    "EventsResponse   \n"
   ]
  },
  {
   "cell_type": "markdown",
   "metadata": {},
   "source": [
    "If the response stat is 401, the access token may be expired. Please re-run the first step (**1. Login**) to get a new access token.\n",
    "\n",
    "### Extract the JSON content\n",
    "\n",
    "If the response status is 200, the HTTP response will contain the Times & Sales data in JSON tabular format.\n",
    "\n",
    "The following code calls the **httr::content** method to extract the JSON content from the HTTP response and then print it on the screen."
   ]
  },
  {
   "cell_type": "code",
   "execution_count": null,
   "metadata": {},
   "outputs": [],
   "source": [
    "EventsPricingContent <- httr::content(EventsResponse, \"parsed\", \"application/json\", encoding=\"UTF-8\")\n",
    "EventsPricingContent"
   ]
  },
  {
   "cell_type": "markdown",
   "metadata": {},
   "source": [
    "### Create a data frame from the JSON content\n",
    "\n",
    "With R, it is easier to display or manipulate the data in the data frame. \n",
    "\n",
    "The following code calls the **JsonTabularToDataFrame** method to create a data frame from the retrieved JSON tabular data. Then, it prints the data frame on the screen."
   ]
  },
  {
   "cell_type": "code",
   "execution_count": null,
   "metadata": {},
   "outputs": [],
   "source": [
    "df2 <- JsonTabularToDataFrame(EventsPricingContent)\n",
    "df2"
   ]
  },
  {
   "cell_type": "markdown",
   "metadata": {},
   "source": [
    "### Plot a chart\n",
    "\n",
    "The following code calls the **plot_ly** function to plot a line chart from the Time & Sales data."
   ]
  },
  {
   "cell_type": "code",
   "execution_count": null,
   "metadata": {},
   "outputs": [],
   "source": [
    "chart2 <- df2 %>%\n",
    "  plot_ly(x = ~DATE_TIME, type=\"scatter\",\n",
    "          mode=\"lines\",\n",
    "          y = ~TRDPRC_1,\n",
    "          name=\"Trade\")  %>%\n",
    "  layout(title = \"Trade\")\n",
    "chart2\n"
   ]
  },
  {
   "cell_type": "markdown",
   "metadata": {},
   "source": [
    "The historical pricing service can also be used to retrieve Intraday historical pricing summaries data and a single record of time series pricing events. Please refer to the [API Documents](http://api.refinitiv.com/) for more information."
   ]
  }
 ],
 "metadata": {
  "kernelspec": {
   "display_name": "R",
   "language": "R",
   "name": "ir"
  },
  "language_info": {
   "codemirror_mode": "r",
   "file_extension": ".r",
   "mimetype": "text/x-r-source",
   "name": "R",
   "pygments_lexer": "r",
   "version": "3.6.1"
  }
 },
 "nbformat": 4,
 "nbformat_minor": 2
}
