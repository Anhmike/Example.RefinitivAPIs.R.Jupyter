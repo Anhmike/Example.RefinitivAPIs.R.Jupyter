{
 "cells": [
  {
   "cell_type": "markdown",
   "metadata": {},
   "source": [
    "# DataStream Web Service R Example\n",
    "\n",
    "This example demonstrates how to use [DataStream Web Service](https://developers.refinitiv.com/eikon-apis/datastream-web-service) with R on Jupyter Notebook. It uses the [DatastreamDSWS2R](https://github.com/CharlesCara/DatastreamDSWS2R/tree/master/R) package to retrieve data from DataStream Web Service and uses [Plotly](https://plot.ly/r/getting-started/) package to draw charts. \n",
    "\n",
    "To setup Jupyter Notebook environment for R or install DatastreamDSWS2R, please refer to this [article](https://developers.refinitiv.com/article/setup-jupyter-notebook-r)."
   ]
  },
  {
   "cell_type": "markdown",
   "metadata": {},
   "source": [
    "## The first step is loading the required libraries:\n",
    "\n",
    "- [DatastreamDSWS2R](https://github.com/CharlesCara/DatastreamDSWS2R): Functions and a R5 class to get data from the DSWS server\n",
    "- [xts](https://www.rdocumentation.org/packages/xts/versions/0.11-2): eXtensible Time Series for uniform handling of R's different time-based data classes \n",
    "- [dplyr](https://www.rdocumentation.org/packages/dplyr/versions/0.7.8): A fast, consistent tool for working with data frame like objects, both in memory and out of memory\n",
    "- [plotly](https://www.rdocumentation.org/packages/plotly/versions/4.9.0): Create interactive web graphics from 'ggplot2' graphs and/or a custom interface to the (MIT-licensed) JavaScript library 'plotly.js'\n"
   ]
  },
  {
   "cell_type": "code",
   "execution_count": null,
   "metadata": {},
   "outputs": [],
   "source": [
    "library(DatastreamDSWS2R)\n",
    "library(xts)\n",
    "library(dplyr)\n",
    "library(plotly)"
   ]
  },
  {
   "cell_type": "markdown",
   "metadata": {},
   "source": [
    "## Next, set DataStream Web Service username and password\n",
    "\n",
    "There are two ways to set DataStream Web Service username and password.\n",
    "\n",
    "1. Set credentials in environment variables by adding to the **.Renviron** file the following lines\n",
    "\n",
    "```\n",
    "DatastreamUsername=YOURUSERNAME\n",
    "DatastreamPassword=YOURPASSWORD\n",
    "```\n",
    "\n",
    "2. Put credentials into the **options()** method which allows the user to set and examine a variety of global options. You can also add these lines to the **.RProfile** file.\n",
    "\n",
    "```\n",
    "options(Datastream.Username = \"YOURUSERNAME\")\n",
    "options(Datastream.Password = \"YOURPASSWORD\")\n",
    "```\n",
    "\n",
    "The below code calls the **options()** method to set the DataStream Web Service credentials. The below code can be skipped if the credentials have been set in the **.Renviron** or **.RProfile** file."
   ]
  },
  {
   "cell_type": "code",
   "execution_count": null,
   "metadata": {},
   "outputs": [],
   "source": [
    "options(Datastream.Username = \"YOURUSERNAME\")\n",
    "options(Datastream.Password = \"YOURPASSWORD\")"
   ]
  },
  {
   "cell_type": "markdown",
   "metadata": {},
   "source": [
    "## Then, create an instance of the DataStream Web Service "
   ]
  },
  {
   "cell_type": "code",
   "execution_count": null,
   "metadata": {},
   "outputs": [],
   "source": [
    "mydsws <- dsws$new()"
   ]
  },
  {
   "cell_type": "markdown",
   "metadata": {},
   "source": [
    "Now, the DataStream Web Service is ready to be used. Next, we will show several use cases for the DataStream Web Service.\n",
    "\n",
    "## The following examples show several use cases for the DataStream Web Service\n",
    "\n",
    "### 1. Retrieve static information for given instruments on a specific date\n",
    "\n",
    "The following code calls the **snapshotRequest** function to get the name (NAME), official closing price (P) and opening price (PO) of ABR, RIO, and WPP instruments on the last trading day. \n",
    "\n",
    "The function returns a data frame with fields in columns and instruments as rows."
   ]
  },
  {
   "cell_type": "code",
   "execution_count": null,
   "metadata": {},
   "outputs": [],
   "source": [
    "data1 <- mydsws$snapshotRequest(instrument = c(\"ABF\",\"RIO\",\"WPP\"),\n",
    "                               datatype = c(\"NAME\",\"P\",\"PO\"),\n",
    "                               requestDate =\"0D\")\n",
    "data1"
   ]
  },
  {
   "cell_type": "markdown",
   "metadata": {},
   "source": [
    "### 2. Retrieve time series data and plot OHLC chart\n",
    "\n",
    "The following code calls the **timeSeriesListRequest** function to retrieve daily historical OPEN, HIGH, LOW, CLOSE fields from one year ago to the last trading day of IBM.\n",
    "\n",
    "The format is **\"ByDatatype\"** so the function returns xts data (eXtensible Time Series) with fields in columns and data points in rows."
   ]
  },
  {
   "cell_type": "code",
   "execution_count": null,
   "metadata": {},
   "outputs": [],
   "source": [
    "xtsOHLCData <- mydsws$timeSeriesListRequest(instrument = c(\"U:IBM\"),\n",
    "                                            datatype = c(\"PO\", \"PH\",\"PL\",\"P\"),\n",
    "                                            startDate = \"-1Y\",\n",
    "                                            endDate = \"-0D\",\n",
    "                                            frequency = \"D\",\n",
    "                                            format=\"ByDatatype\")\n",
    "\n",
    "xtsOHLCData"
   ]
  },
  {
   "cell_type": "markdown",
   "metadata": {},
   "source": [
    "#### Change the column name to OPEN, HIGH, LOW, CLOSE\n",
    "\n",
    "The column names in the xts data are the instrument name so the **colnames()** function can be used to change the column names."
   ]
  },
  {
   "cell_type": "code",
   "execution_count": null,
   "metadata": {},
   "outputs": [],
   "source": [
    "colnames(xtsOHLCData)[[1]] <- \"OPEN\"\n",
    "colnames(xtsOHLCData)[[2]] <- \"HIGH\"\n",
    "colnames(xtsOHLCData)[[3]] <- \"LOW\"\n",
    "colnames(xtsOHLCData)[[4]] <- \"CLOSE\"\n",
    "xtsOHLCData"
   ]
  },
  {
   "cell_type": "markdown",
   "metadata": {},
   "source": [
    "#### Use the xts data to plot an OHLC chart\n",
    "\n",
    "Call the **plot_ly** function to plot an OHLC chart with the index (Date), OPEN, HIGH, LOW, and CLOSE columns."
   ]
  },
  {
   "cell_type": "code",
   "execution_count": null,
   "metadata": {},
   "outputs": [],
   "source": [
    "chart1 <- plot_ly(x = index(xtsOHLCData), \n",
    "             type = \"ohlc\",\n",
    "             open = coredata(xtsOHLCData)[,'OPEN'],\n",
    "             high = coredata(xtsOHLCData)[,'HIGH'],\n",
    "             low = coredata(xtsOHLCData)[,'LOW'],\n",
    "             close = coredata(xtsOHLCData)[,'CLOSE']) %>% layout(title = \"Basic OHLC Chart\")\n",
    "chart1"
   ]
  },
  {
   "cell_type": "markdown",
   "metadata": {},
   "source": [
    "### 3. List request\n",
    "\n",
    "Datastream also supports Constituent Lists of instruments, e.g. LFTSE100, LS&PCOMP, LDAXINDX, LSTOKYOSE, etc. Only one list is permitted per request. The list instruments can be used with the **listRequest** and **timeSeriesListRequest** methods.\n",
    "\n",
    "\n",
    "####  Retrieve static information for a given list instrument on a specific date\n",
    "\n",
    "The following code calls the **listRequest** function with the **LS&PCOMP** which represents S&P 500 to get the name (NAME), mnemonic (MNEM), official closing price (P) and opening price (PO) of instruments in the **LS&PCOMP** on the last trading day. Mnemonic is a unique identification code, assigned by Datastream.\n",
    "\n",
    "The function returns a data frame with fields in columns and instruments as rows."
   ]
  },
  {
   "cell_type": "code",
   "execution_count": null,
   "metadata": {
    "scrolled": true
   },
   "outputs": [],
   "source": [
    "listDataFrame <- mydsws$listRequest(instrument = \"LS&PCOMP\",\n",
    "                                    datatype = c(\"NAME\",\"MNEM\",\"P\",\"PO\"), \n",
    "                                    requestDate=Sys.Date())\n",
    "listDataFrame"
   ]
  },
  {
   "cell_type": "markdown",
   "metadata": {},
   "source": [
    "####  Retrieve time series data for a given list instrument\n",
    "\n",
    "The following code calls the **timeSeriesListRequest** function with the **LS&PCOMP** which represents S&P 500 to get the daily official closing price (P) for the last thirty days.\n",
    "\n",
    "The function returns xts data (eXtensible Time Series) with items' data in columns and data points in rows. If the function shows the **Server error : Internal Server Error : Server error: (500) Internal Server Error**, please set the ChunkLimit to 20 by using the below code:\n",
    "```\n",
    "mydsws$chunkLimit <- 20L\n",
    "```"
   ]
  },
  {
   "cell_type": "code",
   "execution_count": null,
   "metadata": {},
   "outputs": [],
   "source": [
    "mydsws$chunkLimit <- 20L\n",
    "xtsData <- mydsws$timeSeriesListRequest(instrument = \"LS&PCOMP\",\n",
    "                       datatype = \"P\",\n",
    "                       startDate = \"-30D\",\n",
    "                       endDate = \"-0D\",\n",
    "                       frequency = \"D\")\n",
    "\n",
    "xtsData"
   ]
  },
  {
   "cell_type": "markdown",
   "metadata": {},
   "source": [
    "##### Change the column names\n",
    "\n",
    "The column names represent the datastream codes for instruments in the list. For readability, the following code changes the column names from the datastream codes to the mnemonic retrieved from the previous step."
   ]
  },
  {
   "cell_type": "code",
   "execution_count": null,
   "metadata": {},
   "outputs": [],
   "source": [
    "for(i in 1:ncol(xtsData)){\n",
    "    colnames(xtsData)[[i]] <- listDataFrame$MNEM[i]\n",
    "}\n",
    "xtsData"
   ]
  },
  {
   "cell_type": "markdown",
   "metadata": {},
   "source": [
    "### 4. Expressions\n",
    "\n",
    "Expressions are Datastream functions which are statistical and display operators that allow you to calculate and view data in the way you want. Please refer to the [Datastream help page](http://product.datastream.com/Navigator/AdvanceHelpFiles/Functions/WebHelp/HFUNC.htm) for more information. \n",
    "\n",
    "#### Use an expression with the snapshotRequest method\n",
    "\n",
    "The **snapshotRequest** method accepts an expression through the **expression** parameter. \n",
    "\n",
    "The following code uses the Annualised growth rate, first and last values expression ([GRFL#](http://product.datastream.com/Navigator/AdvanceHelpFiles/Functions/WebHelp/Annualised_growth_rate_first_and_last_values_GRFL.htm)) to calculate the annualised growth rate between two dates. It calls the **snapshotRequest** method to get the annualised growth rate in the ABF, RIO, and WPP share prices for the previous quarter. \n"
   ]
  },
  {
   "cell_type": "code",
   "execution_count": null,
   "metadata": {},
   "outputs": [],
   "source": [
    "myData <- mydsws$snapshotRequest(instrument = c(\"ABF\",\"RIO\",\"WPP\"), expression = \"GRFL#(XXXX,-1Q)\", requestDate = \"0D\")\n",
    "myData"
   ]
  },
  {
   "cell_type": "markdown",
   "metadata": {},
   "source": [
    "#### Use an expression with the timeSeriesListRequest method\n",
    "\n",
    "The following code uses the percentage change expression ([PCH#](http://product.datastream.com/Navigator/AdvanceHelpFiles/Functions/WebHelp/HFUNC.htm#Percentage_change_PCH.htm)) to calculate the percentage change for one day period. It requests the daily historical data for one month period of the ABF, RIO, and WPP instruments.\n",
    "\n",
    "The function returns xts data (eXtensible Time Series) with items' data in columns and data points in rows."
   ]
  },
  {
   "cell_type": "code",
   "execution_count": null,
   "metadata": {},
   "outputs": [],
   "source": [
    "xtsPCHData <- mydsws$timeSeriesListRequest(instrument = c(\"ABF\",\"RIO\",\"WPP\"),\n",
    "expression =\"PCH#(XXXX,1D)\",                 \n",
    " startDate = \"-1M\",\n",
    " endDate = \"-0D\",\n",
    " frequency = \"D\")\n",
    "\n",
    "xtsPCHData"
   ]
  },
  {
   "cell_type": "markdown",
   "metadata": {},
   "source": [
    "#### Use the xts data to plot a line chart\n",
    "\n",
    "The xts data contains time series data for three instruments. The following code calls the **plot_ly** function to create a line chart and then plot time series data for each instrument. "
   ]
  },
  {
   "cell_type": "code",
   "execution_count": null,
   "metadata": {},
   "outputs": [],
   "source": [
    "chart2 <- plot_ly()\n",
    "for(i in 1:ncol(xtsPCHData)){\n",
    "    chart2 <- add_trace(chart2, \n",
    "                        x = index(xtsPCHData), \n",
    "                        y = coredata(xtsPCHData)[,i], \n",
    "                        name = colnames(xtsPCHData)[[i]], \n",
    "                        type = 'scatter', \n",
    "                        mode='lines') \n",
    "}\n",
    "chart2"
   ]
  },
  {
   "cell_type": "markdown",
   "metadata": {},
   "source": [
    "### 5. Symbology\n",
    "\n",
    "The **snapshotRequest** method can also be used to find instrument codes from other codes. \n",
    "\n",
    "The following example calls the **snapshotRequest** method to get instrument codes for these instruments:\n",
    "\n",
    "- **TH:BDMS** (Code - Local)\n",
    "- **US0231351067** (Code - ISIN)\n",
    "- **2005973** (Code - SEDOL)\n",
    "- **894371** (Code - Datastream)\n",
    "\n",
    "The data types used by the example are:\n",
    "\n",
    "|Data Type|Name|Description|\n",
    "|---------|----|-----------|\n",
    "|RIC|Reuters Instrument Code (RIC)|The Reuters Instrument Code|\n",
    "|ISIN|Code - Isin|ISIN (International Security Identification Number) is a code that uniquely identifies a security|\n",
    "|SECD|Code - Sedol|This is an identification code based on the code issued by the London Stock Exchange|\n",
    "|LOC|Code - Local|This is an identification code based on the official local exchange code|\n",
    "|DSCD|Code - Datastream|This is the unique six-digit identification code for every stock, allocated by Datastream|\n",
    "\n",
    "The function returns a data frame with fields in columns and instruments as rows."
   ]
  },
  {
   "cell_type": "code",
   "execution_count": null,
   "metadata": {},
   "outputs": [],
   "source": [
    "symbology <- mydsws$snapshotRequest(instrument = c(\"TH:BDMS\",\"US0231351067\",\"2005973\",\"894371\"),\n",
    "                                    datatype = c(\"NAME\",\"RIC\",\"ISIN\", \"SECD\",\"LOC\",\"DSCD\"), \n",
    "                                    requestDate=Sys.Date())\n",
    "symbology"
   ]
  },
  {
   "cell_type": "markdown",
   "metadata": {},
   "source": [
    "### 6. User Statistics\n",
    "\n",
    "The **snapshotRequest** method can also be used to retrieve monthly usage in terms of data points used per month by using **STATS** as instruments and **DS.USERSTATS** as data type. Only snapshot requests are supported and by default the current month’s usage stats are returned. Previous months’ data can be returned by simply adding a valid start date in request of any previous\n",
    "month.\n",
    "\n",
    "The following code requests the user statistics of the current month."
   ]
  },
  {
   "cell_type": "code",
   "execution_count": null,
   "metadata": {},
   "outputs": [],
   "source": [
    "myStat <- mydsws$snapshotRequest(instrument = \"STATS\", \n",
    "                                 datatype = \"DS.USERSTATS\", \n",
    "                                 requestDate = Sys.Date())\n",
    "myStat"
   ]
  },
  {
   "cell_type": "code",
   "execution_count": null,
   "metadata": {},
   "outputs": [],
   "source": []
  }
 ],
 "metadata": {
  "kernelspec": {
   "display_name": "R",
   "language": "R",
   "name": "ir"
  },
  "language_info": {
   "codemirror_mode": "r",
   "file_extension": ".r",
   "mimetype": "text/x-r-source",
   "name": "R",
   "pygments_lexer": "r",
   "version": "3.6.1"
  }
 },
 "nbformat": 4,
 "nbformat_minor": 2
}
