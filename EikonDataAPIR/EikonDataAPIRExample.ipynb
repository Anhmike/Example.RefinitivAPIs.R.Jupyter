{
 "cells": [
  {
   "cell_type": "markdown",
   "metadata": {},
   "source": [
    "# Eikon Data API R Example\n",
    "\n",
    "This example demonstrates how to use [Eikon Data API](https://developers.refinitiv.com/eikon-apis/eikon-data-api) with R on Jupyter Notebook. It uses the [eikonapir](https://github.com/ahmedmohamedali/eikonapir) package to retrieve data from Eikon and uses [Plotly](https://plot.ly/r/getting-started/) package to draw charts. It also uses the [IRDisplay](https://www.rdocumentation.org/packages/IRdisplay) package to display news in HTML format.\n",
    "\n",
    "To setup Jupyter Notebook environment for R or install Eikon Data API for R, please refer to this article."
   ]
  },
  {
   "cell_type": "markdown",
   "metadata": {},
   "source": [
    "### The first step is loading the **eikonapir**, **plotly**, and **IRDisplay** packages."
   ]
  },
  {
   "cell_type": "code",
   "execution_count": null,
   "metadata": {},
   "outputs": [],
   "source": [
    "library(eikonapir)\n",
    "library(plotly)\n",
    "library(IRdisplay)"
   ]
  },
  {
   "cell_type": "markdown",
   "metadata": {},
   "source": [
    "### Next, call the **set_app_id** method with the application key. \n",
    "\n",
    "To create an application key, please refer to [Eikon Data API quick start guide](https://developers.refinitiv.com/eikon-apis/eikon-data-apis/quick-start)."
   ]
  },
  {
   "cell_type": "code",
   "execution_count": null,
   "metadata": {},
   "outputs": [],
   "source": [
    "set_app_id('your application key')"
   ]
  },
  {
   "cell_type": "markdown",
   "metadata": {},
   "source": [
    "## 1. Use the **get_data** function to retrieve the latest data\n",
    "\n",
    "The following code calls the **get_data** function to retrieve the latest available close price, the volume of the latest trading day, and the low price for the latest trading day fields of IBM, GOOG.O, and MSFT.O instruments.\n",
    "\n",
    "The function returns a data frame with fields in columns and instruments as rows."
   ]
  },
  {
   "cell_type": "code",
   "execution_count": null,
   "metadata": {},
   "outputs": [],
   "source": [
    "data_frame1 <- get_data(list(\"IBM\", \"GOOG.O\", \"MSFT.O\"), list(\"TR.PriceClose\", \"TR.Volume\", \"TR.PriceLow\"))\n",
    "data_frame1"
   ]
  },
  {
   "cell_type": "markdown",
   "metadata": {},
   "source": [
    "## 2. Use the **get_data** function to retrieve the historical data and plot OHLC chart\n",
    "\n",
    "The following code calls the **get_data** function to retrieve daily historical OPEN, HIGH, LOW, CLOSE fields from one year ago to the last trading day of IBM. \n",
    "\n",
    "The function returns a data frame with fields in columns and data points in rows."
   ]
  },
  {
   "cell_type": "code",
   "execution_count": null,
   "metadata": {},
   "outputs": [],
   "source": [
    "data_frame2 <- get_data(\"IBM\", \n",
    "                        list(\"TR.OPENPRICE.Date\",\"TR.OPENPRICE\",\"TR.HIGHPRICE\",\"TR.LOWPRICE\",\"TR.CLOSEPRICE\"),\n",
    "                        list(\"Frq\"=\"D\",\"SDate\"=\"0D\",\"EDate\"=\"-1AY\"))\n",
    "data_frame2"
   ]
  },
  {
   "cell_type": "markdown",
   "metadata": {},
   "source": [
    "### Modify the data frame by converting the values in the Date column to date. \n",
    "\n",
    "To create a chart, we need to convert the values in the Date column to date by using the **mutate** function.\n"
   ]
  },
  {
   "cell_type": "code",
   "execution_count": null,
   "metadata": {},
   "outputs": [],
   "source": [
    "data_frame2  <- data_frame2 %>%\n",
    "    mutate(Date=as.Date(Date, format=\"%Y-%m-%d\"))\n",
    "data_frame2"
   ]
  },
  {
   "cell_type": "markdown",
   "metadata": {},
   "source": [
    "### Use the data in the data frame to create an OHLC chart.\n",
    "\n",
    "It calls the **plot_ly** function to create an OHLC chart with the **Date**, **Open Price**, **Close Price**, **High Price**, and **Low Price** columns."
   ]
  },
  {
   "cell_type": "code",
   "execution_count": null,
   "metadata": {},
   "outputs": [],
   "source": [
    "OHLCChart1 <- data_frame2 %>%\n",
    "  plot_ly(x = ~Date, type=\"ohlc\",\n",
    "          open = ~`Open Price`, close = ~`Close Price`,\n",
    "          high = ~`High Price`, low = ~`Low Price`) %>%\n",
    "  layout(title = \"Basic OHLC Chart\")"
   ]
  },
  {
   "cell_type": "markdown",
   "metadata": {},
   "source": [
    "### Display the OHLC chart"
   ]
  },
  {
   "cell_type": "code",
   "execution_count": null,
   "metadata": {},
   "outputs": [],
   "source": [
    "OHLCChart1"
   ]
  },
  {
   "cell_type": "markdown",
   "metadata": {},
   "source": [
    "## 3. Use the **get_timeseries** method to retrieve daily historical data\n",
    "\n",
    "The following code calls the **get_timeseries** method to retrieve daily historical data of GOOG.O from 01 Jan 2019 to 30 Sep 2019."
   ]
  },
  {
   "cell_type": "code",
   "execution_count": null,
   "metadata": {},
   "outputs": [],
   "source": [
    "data_frame3 = get_timeseries(list(\"GOOG.O\"),list(\"*\"),\"2019-01-01T00:00:00\",\"2019-09-30T00:00:00\",\"daily\")\n",
    "data_frame3"
   ]
  },
  {
   "cell_type": "markdown",
   "metadata": {},
   "source": [
    "### Modify the data frame\n",
    "\n",
    "In order to create a chart, the returned data frame will be modified:\n",
    "- Changing the last column name from NA to RIC\n",
    "- Converting the values in the TIMESTAMP column to date"
   ]
  },
  {
   "cell_type": "code",
   "execution_count": null,
   "metadata": {},
   "outputs": [],
   "source": [
    "colnames(data_frame3)[[8]] = \"RIC\"\n",
    "data_frame3  <- data_frame3 %>%\n",
    "    mutate(TIMESTAMP=as.Date(TIMESTAMP, format=\"%Y-%m-%d\"))\n",
    "data_frame3"
   ]
  },
  {
   "cell_type": "markdown",
   "metadata": {},
   "source": [
    "### Use the data in the data frame to create a candlestick chart\n",
    "\n",
    "It calls the **plot_ly** function to create a candlestick chart with the **TIMESTAMP**, **OPEN**, **CLOSE**, **HIGH**, and **LOW** columns."
   ]
  },
  {
   "cell_type": "code",
   "execution_count": null,
   "metadata": {},
   "outputs": [],
   "source": [
    "CandleStickChart <- data_frame3 %>%\n",
    "  plot_ly(x = ~TIMESTAMP, type=\"candlestick\",\n",
    "          open = ~OPEN, close = ~CLOSE,\n",
    "          high = ~HIGH, low = ~LOW) %>%\n",
    "  layout(title = \"Basic Candlestick Chart\")"
   ]
  },
  {
   "cell_type": "markdown",
   "metadata": {},
   "source": [
    "### Display the candlestick chart"
   ]
  },
  {
   "cell_type": "code",
   "execution_count": null,
   "metadata": {},
   "outputs": [],
   "source": [
    "CandleStickChart"
   ]
  },
  {
   "cell_type": "markdown",
   "metadata": {},
   "source": [
    "## 4. Use the get_symbology function to convert instrument codes\n",
    "\n",
    "The following code calls the **get_symbology** method to convert RICS names to ISIN instrument names."
   ]
  },
  {
   "cell_type": "code",
   "execution_count": null,
   "metadata": {},
   "outputs": [],
   "source": [
    "ISINList <- get_symbology(list(\"MSFT.O\", \"GOOG.O\", \"IBM.N\"),\n",
    "                          from_symbol_type=\"RIC\", \n",
    "                          to_symbol_type=\"ISIN\")\n",
    "ISINList"
   ]
  },
  {
   "cell_type": "markdown",
   "metadata": {},
   "source": [
    "The following code calls the **get_symbology** method to convert ISIN instrument names to CUSIP instrument names."
   ]
  },
  {
   "cell_type": "code",
   "execution_count": null,
   "metadata": {},
   "outputs": [],
   "source": [
    "CUSIPList <- get_symbology(list(\"US5949181045\", \"US02079K1079\", \"US4592001014\"), \n",
    "                           from_symbol_type=\"ISIN\", \n",
    "                           to_symbol_type=\"CUSIP\")\n",
    "CUSIPList"
   ]
  },
  {
   "cell_type": "markdown",
   "metadata": {},
   "source": [
    "## 5. Use the get_news_headlines and get_news_story method to retrieve news\n",
    "\n",
    "The following code calls the **get_news_headlines** method to retrieve 10 news headlines about IBM.N in English. For each headline, it calls the **get_news_story** with the story ID to retrieve a news story. The news headlines and stories are displayed as HTML.\n"
   ]
  },
  {
   "cell_type": "code",
   "execution_count": null,
   "metadata": {},
   "outputs": [],
   "source": [
    "headlines <- get_news_headlines(\"R:IBM.N IN ENGLISH\")\n",
    "for (row in 1:nrow(headlines)) \n",
    "{   \n",
    "    display_html(paste(\"<h1>\",headlines[row,\"text\"],\"</h1>\"))\n",
    "    story <- get_news_story(headlines[row, \"storyId\"])\n",
    "    display_html(story)\n",
    "}\n"
   ]
  },
  {
   "cell_type": "code",
   "execution_count": null,
   "metadata": {},
   "outputs": [],
   "source": []
  }
 ],
 "metadata": {
  "kernelspec": {
   "display_name": "R",
   "language": "R",
   "name": "ir"
  },
  "language_info": {
   "codemirror_mode": "r",
   "file_extension": ".r",
   "mimetype": "text/x-r-source",
   "name": "R",
   "pygments_lexer": "r",
   "version": "3.6.1"
  }
 },
 "nbformat": 4,
 "nbformat_minor": 2
}
